{
  "nbformat": 4,
  "nbformat_minor": 0,
  "metadata": {
    "colab": {
      "name": "PolynomialKernel.ipynb",
      "provenance": [],
      "collapsed_sections": []
    },
    "kernelspec": {
      "name": "python3",
      "display_name": "Python 3"
    }
  },
  "cells": [
    {
      "cell_type": "code",
      "metadata": {
        "id": "HGi_G1t3lFSC",
        "colab_type": "code",
        "colab": {}
      },
      "source": [
        "import numpy as np\n",
        "from numpy import linalg\n",
        "import cvxopt\n",
        "import cvxopt.solvers"
      ],
      "execution_count": 0,
      "outputs": []
    },
    {
      "cell_type": "markdown",
      "metadata": {
        "id": "5LhWe6MSmCw_",
        "colab_type": "text"
      },
      "source": [
        "**The Kernel trick.** \n",
        "\n",
        "The Kernel trick. provides a bridge from linearity to non-linearity to any algorithm that can expressed solely on terms of dot products between two vectors. With this method we first map our input data into a higher-dimensional space, a linear algorithm operating in this space will behave non-linearly in the original input space.\n",
        "\n",
        "Kernel functions must be continuous, symmetric, and most preferably should have a positive (semi-) definite Gram matrix. Kernels which are said to satisfy the Mercer’s theorem (which polynomial and linear kerles do) are positive semi-definite, meaning their kernel matrices have only non-negative Eigen values. The use of a positive definite kernel means that the optimization problem will be convex and solution will be unique. \n",
        "\n",
        "---\n",
        "\n",
        "**Polynomial Kernel.**\n",
        "\n",
        "The Polynomial kernel is a non-stationary kernel. Polynomial kernels are well suited for problems where all the training data is normalized.\n",
        "\n",
        "$k(x, y) = (\\alpha x^T y + c)^d$\n",
        "\n",
        "Adjustable parameters are the slope $\\alpha$, the constant term c and the polynomial degree d. In this case I use 3 degree polynomial. "
      ]
    },
    {
      "cell_type": "code",
      "metadata": {
        "id": "vk--vCcllT52",
        "colab_type": "code",
        "colab": {}
      },
      "source": [
        "class PolynomialKernel(object):\n",
        "\n",
        "    def kernel(self, x, y, p=3):\n",
        "        return (1 + np.dot(x, y)) ** p\n",
        "\n",
        "    def fit(self, X, y):\n",
        "        n_samples, n_features = X.shape\n",
        "\n",
        "        # Gram matrix\n",
        "        K = np.zeros((n_samples, n_samples))\n",
        "        for i in range(n_samples):\n",
        "            for j in range(n_samples):\n",
        "                K[i,j] = self.kernel(X[i], X[j])\n",
        "        # print(\"X\", X)\n",
        "        # print(\"Gram matrix X\", K)\n",
        "        P = cvxopt.matrix(np.outer(y,y) * K)\n",
        "        q = cvxopt.matrix(np.ones(n_samples) * -1)\n",
        "        A = cvxopt.matrix(y, (1,n_samples))\n",
        "        b = cvxopt.matrix(0.0)\n",
        "        G = cvxopt.matrix(np.diag(np.ones(n_samples) * -1))\n",
        "        h = cvxopt.matrix(np.zeros(n_samples))\n",
        "\n",
        "        # solve QP problem\n",
        "        solution = cvxopt.solvers.qp(P, q, G, h, A, b)\n",
        "\n",
        "        # Метод множителей Лагранжа\n",
        "        a = np.ravel(solution['x'])\n",
        "        sv = a > 1e-5\n",
        "        ind = np.arange(len(a))[sv]\n",
        "        self.a = a[sv]\n",
        "        self.sv = X[sv]\n",
        "        self.sv_y = y[sv]\n",
        "\n",
        "        # Intercept\n",
        "        self.b = 0\n",
        "        for n in range(len(self.a)):\n",
        "            self.b += self.sv_y[n]\n",
        "            self.b -= np.sum(self.a * self.sv_y * K[ind[n],sv])\n",
        "        self.b /= len(self.a)\n",
        "\n",
        "    def evaluate(self, X):\n",
        "        y_predict = np.zeros(len(X))\n",
        "        for i in range(len(X)):\n",
        "            s = 0\n",
        "            for a, sv_y, sv in zip(self.a, self.sv_y, self.sv):\n",
        "                s += a * sv_y * self.kernel(X[i], sv)\n",
        "            y_predict[i] = s\n",
        "        return y_predict + self.b"
      ],
      "execution_count": 0,
      "outputs": []
    },
    {
      "cell_type": "code",
      "metadata": {
        "id": "KPQToj08lbw2",
        "colab_type": "code",
        "colab": {}
      },
      "source": [
        "\n",
        "import pylab as pl\n",
        "\n",
        "\n",
        "def generate_data():\n",
        "    mean1 = [-1, 2]\n",
        "    mean2 = [1, -1]\n",
        "    mean3 = [4, -4]\n",
        "    mean4 = [-4, 4]\n",
        "    cov = [[1.0,0.8], [0.8, 1.0]]\n",
        "    X1 = np.random.multivariate_normal(mean1, cov, 50)\n",
        "    X1 = np.vstack((X1, np.random.multivariate_normal(mean3, cov, 50)))\n",
        "    y1 = np.ones(len(X1))\n",
        "    X2 = np.random.multivariate_normal(mean2, cov, 50)\n",
        "    X2 = np.vstack((X2, np.random.multivariate_normal(mean4, cov, 50)))\n",
        "    y2 = np.ones(len(X2)) * -1\n",
        "    return X1, y1, X2, y2\n",
        "\n",
        "\n",
        "def split_train(X1, y1, X2, y2):\n",
        "    X1_train = X1[:90]\n",
        "    y1_train = y1[:90]\n",
        "    X2_train = X2[:90]\n",
        "    y2_train = y2[:90]\n",
        "    X_train = np.vstack((X1_train, X2_train))\n",
        "    y_train = np.hstack((y1_train, y2_train))\n",
        "    return X_train, y_train\n",
        "\n",
        "def split_test(X1, y1, X2, y2):\n",
        "    X1_test = X1[90:]\n",
        "    y1_test = y1[90:]\n",
        "    X2_test = X2[90:]\n",
        "    y2_test = y2[90:]\n",
        "    X_test = np.vstack((X1_test, X2_test))\n",
        "    y_test = np.hstack((y1_test, y2_test))\n",
        "    return X_test, y_test\n",
        "\n",
        "\n",
        "def plot_contour(X1_train, X2_train, clf):\n",
        "    pl.plot(X1_train[:,0], X1_train[:,1], \"bo\")\n",
        "    pl.plot(X2_train[:,0], X2_train[:,1], \"mo\")\n",
        "    pl.scatter(clf.sv[:,0], clf.sv[:,1], s=100, c=\"k\")\n",
        "\n",
        "    X1, X2 = np.meshgrid(np.linspace(-6,6,50), np.linspace(-6,6,50))\n",
        "    X = np.array([[x1, x2] for x1, x2 in zip(np.ravel(X1), np.ravel(X2))])\n",
        "    Z = clf.evaluate(X).reshape(X1.shape)\n",
        "    pl.contour(X1, X2, Z, [0.0], colors='k', linewidths=1, origin='lower')\n",
        "    pl.contour(X1, X2, Z + 1, [0.0], colors='grey', linewidths=1, origin='lower')\n",
        "    pl.contour(X1, X2, Z - 1, [0.0], colors='grey', linewidths=1, origin='lower')\n",
        "\n",
        "    pl.axis(\"tight\")\n",
        "    pl.show()\n",
        "\n",
        "def test_non_linear():\n",
        "    X1, y1, X2, y2 = generate_data()\n",
        "    X_train, y_train = split_train(X1, y1, X2, y2)\n",
        "    X_test, y_test = split_test(X1, y1, X2, y2)\n",
        "\n",
        "    clf = PolynomialKernel()\n",
        "    clf.fit(X_train, y_train)\n",
        "\n",
        "    y_predict = np.sign(clf.evaluate(X_test))\n",
        "    correct = np.sum(y_predict == y_test)\n",
        "    print(\"%d support vectors\" % (len(clf.a)))\n",
        "    print(\"%d/%d predictions correct\" % (correct, len(y_predict)))\n",
        "\n",
        "    plot_contour(X_train[y_train==1], X_train[y_train==-1], clf)\n",
        "\n"
      ],
      "execution_count": 0,
      "outputs": []
    },
    {
      "cell_type": "code",
      "metadata": {
        "id": "Cth2C7ARlzT1",
        "colab_type": "code",
        "colab": {
          "base_uri": "https://localhost:8080/",
          "height": 595
        },
        "outputId": "0bda30cf-f6f6-4865-daa0-1c30cf0e6cea"
      },
      "source": [
        "test_non_linear()"
      ],
      "execution_count": 111,
      "outputs": [
        {
          "output_type": "stream",
          "text": [
            "     pcost       dcost       gap    pres   dres\n",
            " 0: -3.7735e+01 -8.3878e+01  1e+03  4e+01  2e+00\n",
            " 1: -7.5524e+01 -6.7841e+01  5e+02  2e+01  9e-01\n",
            " 2: -1.3321e+01 -2.8446e+00  1e+02  3e+00  2e-01\n",
            " 3: -5.8310e-01 -5.4557e-01  5e+00  1e-01  8e-03\n",
            " 4: -1.9977e-01 -5.4222e-01  3e+00  6e-02  4e-03\n",
            " 5: -1.0672e-01 -4.0754e-01  1e+00  2e-02  1e-03\n",
            " 6: -1.3542e-01 -2.7075e-01  4e-01  7e-03  4e-04\n",
            " 7: -1.4969e-01 -2.0855e-01  2e-01  3e-03  2e-04\n",
            " 8: -1.4691e-01 -1.8269e-01  1e-01  1e-03  6e-05\n",
            " 9: -1.3594e-01 -1.8640e-01  9e-02  6e-04  4e-05\n",
            "10: -1.6130e-01 -1.7311e-01  2e-02  1e-04  6e-06\n",
            "11: -1.6739e-01 -1.7154e-01  5e-03  2e-05  1e-06\n",
            "12: -1.7075e-01 -1.7102e-01  3e-04  2e-07  1e-08\n",
            "13: -1.7100e-01 -1.7100e-01  3e-06  2e-09  1e-10\n",
            "14: -1.7100e-01 -1.7100e-01  3e-08  2e-11  1e-12\n",
            "Optimal solution found.\n",
            "9 support vectors\n",
            "19/20 predictions correct\n"
          ],
          "name": "stdout"
        },
        {
          "output_type": "display_data",
          "data": {
            "image/png": "[encoded data removed]",
            "text/plain": [
              "<Figure size 432x288 with 1 Axes>"
            ]
          },
          "metadata": {
            "tags": []
          }
        }
      ]
    }
  ]
}